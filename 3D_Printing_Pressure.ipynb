{
  "nbformat": 4,
  "nbformat_minor": 0,
  "metadata": {
    "colab": {
      "provenance": []
    },
    "kernelspec": {
      "name": "python3",
      "display_name": "Python 3"
    },
    "language_info": {
      "name": "python"
    }
  },
  "cells": [
    {
      "cell_type": "code",
      "execution_count": null,
      "metadata": {
        "id": "f-maSMdxeu3i",
        "colab": {
          "base_uri": "https://localhost:8080/"
        },
        "outputId": "eee7b8af-2b15-4f67-a180-3a8149555c53"
      },
      "outputs": [
        {
          "output_type": "stream",
          "name": "stdout",
          "text": [
            "Predicted Pressure: 17835646786.95 MPa\n"
          ]
        }
      ],
      "source": [
        "import numpy as np\n",
        "\n",
        "def predict_pressure(temp, speed, density):\n",
        "\n",
        "    # Converting temperature from Celsius to Kelvin\n",
        "    temp = temp + 273.15\n",
        "\n",
        "    # Constants used in the calculation\n",
        "    R = 8.31  # Gas constant in J/(mol*K)\n",
        "    M = 28.966  # Molecular weight of filament material in g/mol\n",
        "    V = 1e-6  # Volume of filament material in m^3\n",
        "\n",
        "    # Pressure calculation\n",
        "    pressure = (density * speed**2) / (2 * (temp * R / M) * V)\n",
        "\n",
        "    return pressure\n",
        "\n",
        "# Example usage\n",
        "temp = 20  # Celsius\n",
        "speed = 50  # mm/s\n",
        "density = 1200  # kg/m^3\n",
        "\n",
        "predicted_pressure = predict_pressure(temp, speed, density)\n",
        "print(\"Predicted Pressure: {:.2f} MPa\".format(predicted_pressure))"
      ]
    }
  ]
}